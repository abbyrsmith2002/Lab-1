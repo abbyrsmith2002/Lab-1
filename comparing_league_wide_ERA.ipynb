{
 "cells": [
  {
   "cell_type": "code",
   "execution_count": 2,
   "id": "19e66fde-6cde-4fc2-8081-310c8c8b2284",
   "metadata": {},
   "outputs": [],
   "source": [
    "import polars as pl"
   ]
  },
  {
   "cell_type": "code",
   "execution_count": 12,
   "id": "f9e5ab0e-fb21-4a47-bd93-5f34789b3f96",
   "metadata": {},
   "outputs": [],
   "source": [
    "Pitching = pl.read_csv('./Data/lahman_1871-2023_csv/Pitching.csv')"
   ]
  },
  {
   "cell_type": "code",
   "execution_count": 14,
   "id": "4837f328-3ffa-49c5-ae85-7eb31de43ff1",
   "metadata": {},
   "outputs": [
    {
     "data": {
      "text/html": [
       "<div><style>\n",
       ".dataframe > thead > tr,\n",
       ".dataframe > tbody > tr {\n",
       "  text-align: right;\n",
       "  white-space: pre-wrap;\n",
       "}\n",
       "</style>\n",
       "<small>shape: (5, 30)</small><table border=\"1\" class=\"dataframe\"><thead><tr><th>playerID</th><th>yearID</th><th>stint</th><th>teamID</th><th>lgID</th><th>W</th><th>L</th><th>G</th><th>GS</th><th>CG</th><th>SHO</th><th>SV</th><th>IPouts</th><th>H</th><th>ER</th><th>HR</th><th>BB</th><th>SO</th><th>BAOpp</th><th>ERA</th><th>IBB</th><th>WP</th><th>HBP</th><th>BK</th><th>BFP</th><th>GF</th><th>R</th><th>SH</th><th>SF</th><th>GIDP</th></tr><tr><td>str</td><td>i64</td><td>i64</td><td>str</td><td>str</td><td>i64</td><td>i64</td><td>i64</td><td>i64</td><td>i64</td><td>i64</td><td>i64</td><td>i64</td><td>i64</td><td>i64</td><td>i64</td><td>i64</td><td>i64</td><td>f64</td><td>f64</td><td>i64</td><td>i64</td><td>i64</td><td>i64</td><td>i64</td><td>i64</td><td>i64</td><td>i64</td><td>i64</td><td>i64</td></tr></thead><tbody><tr><td>&quot;aardsda01&quot;</td><td>2004</td><td>1</td><td>&quot;SFN&quot;</td><td>&quot;NL&quot;</td><td>1</td><td>0</td><td>11</td><td>0</td><td>0</td><td>0</td><td>0</td><td>32</td><td>20</td><td>8</td><td>1</td><td>10</td><td>5</td><td>0.417</td><td>6.75</td><td>0</td><td>0</td><td>2</td><td>0</td><td>61</td><td>5</td><td>8</td><td>0</td><td>1</td><td>1</td></tr><tr><td>&quot;aardsda01&quot;</td><td>2006</td><td>1</td><td>&quot;CHN&quot;</td><td>&quot;NL&quot;</td><td>3</td><td>0</td><td>45</td><td>0</td><td>0</td><td>0</td><td>0</td><td>159</td><td>41</td><td>24</td><td>9</td><td>28</td><td>49</td><td>0.214</td><td>4.08</td><td>0</td><td>1</td><td>1</td><td>0</td><td>225</td><td>9</td><td>25</td><td>1</td><td>3</td><td>2</td></tr><tr><td>&quot;aardsda01&quot;</td><td>2007</td><td>1</td><td>&quot;CHA&quot;</td><td>&quot;AL&quot;</td><td>2</td><td>1</td><td>25</td><td>0</td><td>0</td><td>0</td><td>0</td><td>97</td><td>39</td><td>23</td><td>4</td><td>17</td><td>36</td><td>0.3</td><td>6.4</td><td>3</td><td>2</td><td>1</td><td>0</td><td>151</td><td>7</td><td>24</td><td>2</td><td>1</td><td>1</td></tr><tr><td>&quot;aardsda01&quot;</td><td>2008</td><td>1</td><td>&quot;BOS&quot;</td><td>&quot;AL&quot;</td><td>4</td><td>2</td><td>47</td><td>0</td><td>0</td><td>0</td><td>0</td><td>146</td><td>49</td><td>30</td><td>4</td><td>35</td><td>49</td><td>0.268</td><td>5.55</td><td>2</td><td>3</td><td>5</td><td>0</td><td>228</td><td>7</td><td>32</td><td>3</td><td>2</td><td>4</td></tr><tr><td>&quot;aardsda01&quot;</td><td>2009</td><td>1</td><td>&quot;SEA&quot;</td><td>&quot;AL&quot;</td><td>3</td><td>6</td><td>73</td><td>0</td><td>0</td><td>0</td><td>38</td><td>214</td><td>49</td><td>20</td><td>4</td><td>34</td><td>80</td><td>0.19</td><td>2.52</td><td>3</td><td>2</td><td>0</td><td>0</td><td>296</td><td>53</td><td>23</td><td>2</td><td>1</td><td>2</td></tr></tbody></table></div>"
      ],
      "text/plain": [
       "shape: (5, 30)\n",
       "┌───────────┬────────┬───────┬────────┬───┬─────┬─────┬─────┬──────┐\n",
       "│ playerID  ┆ yearID ┆ stint ┆ teamID ┆ … ┆ R   ┆ SH  ┆ SF  ┆ GIDP │\n",
       "│ ---       ┆ ---    ┆ ---   ┆ ---    ┆   ┆ --- ┆ --- ┆ --- ┆ ---  │\n",
       "│ str       ┆ i64    ┆ i64   ┆ str    ┆   ┆ i64 ┆ i64 ┆ i64 ┆ i64  │\n",
       "╞═══════════╪════════╪═══════╪════════╪═══╪═════╪═════╪═════╪══════╡\n",
       "│ aardsda01 ┆ 2004   ┆ 1     ┆ SFN    ┆ … ┆ 8   ┆ 0   ┆ 1   ┆ 1    │\n",
       "│ aardsda01 ┆ 2006   ┆ 1     ┆ CHN    ┆ … ┆ 25  ┆ 1   ┆ 3   ┆ 2    │\n",
       "│ aardsda01 ┆ 2007   ┆ 1     ┆ CHA    ┆ … ┆ 24  ┆ 2   ┆ 1   ┆ 1    │\n",
       "│ aardsda01 ┆ 2008   ┆ 1     ┆ BOS    ┆ … ┆ 32  ┆ 3   ┆ 2   ┆ 4    │\n",
       "│ aardsda01 ┆ 2009   ┆ 1     ┆ SEA    ┆ … ┆ 23  ┆ 2   ┆ 1   ┆ 2    │\n",
       "└───────────┴────────┴───────┴────────┴───┴─────┴─────┴─────┴──────┘"
      ]
     },
     "execution_count": 14,
     "metadata": {},
     "output_type": "execute_result"
    }
   ],
   "source": [
    "Pitching.head()"
   ]
  },
  {
   "cell_type": "code",
   "execution_count": 15,
   "id": "109e244e-2dc7-4b7b-89a3-2df3b9774dc9",
   "metadata": {},
   "outputs": [
    {
     "data": {
      "text/html": [
       "<div><style>\n",
       ".dataframe > thead > tr,\n",
       ".dataframe > tbody > tr {\n",
       "  text-align: right;\n",
       "  white-space: pre-wrap;\n",
       "}\n",
       "</style>\n",
       "<small>shape: (5, 24)</small><table border=\"1\" class=\"dataframe\"><thead><tr><th>playerID</th><th>yearID</th><th>stint</th><th>teamID</th><th>lgID</th><th>G</th><th>G_batting</th><th>AB</th><th>R</th><th>H</th><th>2B</th><th>3B</th><th>HR</th><th>RBI</th><th>SB</th><th>CS</th><th>BB</th><th>SO</th><th>IBB</th><th>HBP</th><th>SH</th><th>SF</th><th>GIDP</th><th>G_old</th></tr><tr><td>str</td><td>i64</td><td>i64</td><td>str</td><td>str</td><td>i64</td><td>i64</td><td>i64</td><td>i64</td><td>i64</td><td>i64</td><td>i64</td><td>i64</td><td>i64</td><td>i64</td><td>i64</td><td>i64</td><td>i64</td><td>i64</td><td>i64</td><td>i64</td><td>i64</td><td>i64</td><td>str</td></tr></thead><tbody><tr><td>&quot;aardsda01&quot;</td><td>2004</td><td>1</td><td>&quot;SFN&quot;</td><td>&quot;NL&quot;</td><td>11</td><td>null</td><td>0</td><td>0</td><td>0</td><td>0</td><td>0</td><td>0</td><td>0</td><td>0</td><td>0</td><td>0</td><td>0</td><td>0</td><td>0</td><td>0</td><td>0</td><td>0</td><td>null</td></tr><tr><td>&quot;aardsda01&quot;</td><td>2006</td><td>1</td><td>&quot;CHN&quot;</td><td>&quot;NL&quot;</td><td>45</td><td>null</td><td>2</td><td>0</td><td>0</td><td>0</td><td>0</td><td>0</td><td>0</td><td>0</td><td>0</td><td>0</td><td>0</td><td>0</td><td>0</td><td>1</td><td>0</td><td>0</td><td>null</td></tr><tr><td>&quot;aardsda01&quot;</td><td>2007</td><td>1</td><td>&quot;CHA&quot;</td><td>&quot;AL&quot;</td><td>25</td><td>null</td><td>0</td><td>0</td><td>0</td><td>0</td><td>0</td><td>0</td><td>0</td><td>0</td><td>0</td><td>0</td><td>0</td><td>0</td><td>0</td><td>0</td><td>0</td><td>0</td><td>null</td></tr><tr><td>&quot;aardsda01&quot;</td><td>2008</td><td>1</td><td>&quot;BOS&quot;</td><td>&quot;AL&quot;</td><td>47</td><td>null</td><td>1</td><td>0</td><td>0</td><td>0</td><td>0</td><td>0</td><td>0</td><td>0</td><td>0</td><td>0</td><td>1</td><td>0</td><td>0</td><td>0</td><td>0</td><td>0</td><td>null</td></tr><tr><td>&quot;aardsda01&quot;</td><td>2009</td><td>1</td><td>&quot;SEA&quot;</td><td>&quot;AL&quot;</td><td>73</td><td>null</td><td>0</td><td>0</td><td>0</td><td>0</td><td>0</td><td>0</td><td>0</td><td>0</td><td>0</td><td>0</td><td>0</td><td>0</td><td>0</td><td>0</td><td>0</td><td>0</td><td>null</td></tr></tbody></table></div>"
      ],
      "text/plain": [
       "shape: (5, 24)\n",
       "┌───────────┬────────┬───────┬────────┬───┬─────┬─────┬──────┬───────┐\n",
       "│ playerID  ┆ yearID ┆ stint ┆ teamID ┆ … ┆ SH  ┆ SF  ┆ GIDP ┆ G_old │\n",
       "│ ---       ┆ ---    ┆ ---   ┆ ---    ┆   ┆ --- ┆ --- ┆ ---  ┆ ---   │\n",
       "│ str       ┆ i64    ┆ i64   ┆ str    ┆   ┆ i64 ┆ i64 ┆ i64  ┆ str   │\n",
       "╞═══════════╪════════╪═══════╪════════╪═══╪═════╪═════╪══════╪═══════╡\n",
       "│ aardsda01 ┆ 2004   ┆ 1     ┆ SFN    ┆ … ┆ 0   ┆ 0   ┆ 0    ┆ null  │\n",
       "│ aardsda01 ┆ 2006   ┆ 1     ┆ CHN    ┆ … ┆ 1   ┆ 0   ┆ 0    ┆ null  │\n",
       "│ aardsda01 ┆ 2007   ┆ 1     ┆ CHA    ┆ … ┆ 0   ┆ 0   ┆ 0    ┆ null  │\n",
       "│ aardsda01 ┆ 2008   ┆ 1     ┆ BOS    ┆ … ┆ 0   ┆ 0   ┆ 0    ┆ null  │\n",
       "│ aardsda01 ┆ 2009   ┆ 1     ┆ SEA    ┆ … ┆ 0   ┆ 0   ┆ 0    ┆ null  │\n",
       "└───────────┴────────┴───────┴────────┴───┴─────┴─────┴──────┴───────┘"
      ]
     },
     "execution_count": 15,
     "metadata": {},
     "output_type": "execute_result"
    }
   ],
   "source": [
    "Batting = pl.read_csv('./Data/lahman_1871-2023_csv/Batting.csv')\n",
    "Batting.head()"
   ]
  },
  {
   "cell_type": "code",
   "execution_count": 38,
   "id": "2b3ffe41-46e1-4257-8f19-5041c4d51827",
   "metadata": {},
   "outputs": [
    {
     "data": {
      "text/html": [
       "<div><style>\n",
       ".dataframe > thead > tr,\n",
       ".dataframe > tbody > tr {\n",
       "  text-align: right;\n",
       "  white-space: pre-wrap;\n",
       "}\n",
       "</style>\n",
       "<small>shape: (156, 5)</small><table border=\"1\" class=\"dataframe\"><thead><tr><th>yearID</th><th>lgID</th><th>total_runs</th><th>total_ipouts</th><th>League_ERA</th></tr><tr><td>i64</td><td>str</td><td>i64</td><td>i64</td><td>f64</td></tr></thead><tbody><tr><td>1955</td><td>&quot;AL&quot;</td><td>5491</td><td>33080</td><td>4.481771</td></tr><tr><td>1998</td><td>&quot;AL&quot;</td><td>11354</td><td>60584</td><td>5.060049</td></tr><tr><td>2009</td><td>&quot;AL&quot;</td><td>10793</td><td>60520</td><td>4.815119</td></tr><tr><td>1991</td><td>&quot;NL&quot;</td><td>7955</td><td>52163</td><td>4.117574</td></tr><tr><td>2018</td><td>&quot;AL&quot;</td><td>11075</td><td>64982</td><td>4.601659</td></tr><tr><td>&hellip;</td><td>&hellip;</td><td>&hellip;</td><td>&hellip;</td><td>&hellip;</td></tr><tr><td>2007</td><td>&quot;NL&quot;</td><td>12388</td><td>69742</td><td>4.795905</td></tr><tr><td>2003</td><td>&quot;NL&quot;</td><td>11917</td><td>69331</td><td>4.640911</td></tr><tr><td>1970</td><td>&quot;NL&quot;</td><td>8771</td><td>52235</td><td>4.533684</td></tr><tr><td>1985</td><td>&quot;AL&quot;</td><td>10317</td><td>60552</td><td>4.600327</td></tr><tr><td>2017</td><td>&quot;AL&quot;</td><td>11337</td><td>64892</td><td>4.717053</td></tr></tbody></table></div>"
      ],
      "text/plain": [
       "shape: (156, 5)\n",
       "┌────────┬──────┬────────────┬──────────────┬────────────┐\n",
       "│ yearID ┆ lgID ┆ total_runs ┆ total_ipouts ┆ League_ERA │\n",
       "│ ---    ┆ ---  ┆ ---        ┆ ---          ┆ ---        │\n",
       "│ i64    ┆ str  ┆ i64        ┆ i64          ┆ f64        │\n",
       "╞════════╪══════╪════════════╪══════════════╪════════════╡\n",
       "│ 1955   ┆ AL   ┆ 5491       ┆ 33080        ┆ 4.481771   │\n",
       "│ 1998   ┆ AL   ┆ 11354      ┆ 60584        ┆ 5.060049   │\n",
       "│ 2009   ┆ AL   ┆ 10793      ┆ 60520        ┆ 4.815119   │\n",
       "│ 1991   ┆ NL   ┆ 7955       ┆ 52163        ┆ 4.117574   │\n",
       "│ 2018   ┆ AL   ┆ 11075      ┆ 64982        ┆ 4.601659   │\n",
       "│ …      ┆ …    ┆ …          ┆ …            ┆ …          │\n",
       "│ 2007   ┆ NL   ┆ 12388      ┆ 69742        ┆ 4.795905   │\n",
       "│ 2003   ┆ NL   ┆ 11917      ┆ 69331        ┆ 4.640911   │\n",
       "│ 1970   ┆ NL   ┆ 8771       ┆ 52235        ┆ 4.533684   │\n",
       "│ 1985   ┆ AL   ┆ 10317      ┆ 60552        ┆ 4.600327   │\n",
       "│ 2017   ┆ AL   ┆ 11337      ┆ 64892        ┆ 4.717053   │\n",
       "└────────┴──────┴────────────┴──────────────┴────────────┘"
      ]
     },
     "execution_count": 38,
     "metadata": {},
     "output_type": "execute_result"
    }
   ],
   "source": [
    "League_Wide_ERA = (Pitching\n",
    "                     .select([pl.col('IPouts'), pl.col('yearID'), pl.col('R'), pl.col('lgID')])\n",
    "                     .filter((pl.col('yearID') >= 1946))\n",
    "                     .group_by(pl.col('yearID'), pl.col('lgID'))\n",
    "                     .agg([pl.col('R').sum().alias('total_runs'),\n",
    "                           pl.col('IPouts').sum().alias('total_ipouts')\n",
    "                          ])\n",
    "                     .with_columns(League_ERA = pl.col('total_runs')/pl.col('total_ipouts')*27)\n",
    "                    )\n",
    "League_Wide_ERA"
   ]
  },
  {
   "cell_type": "code",
   "execution_count": 116,
   "id": "bf13222b-ca55-4d74-8c8a-b67a5607a47b",
   "metadata": {},
   "outputs": [
    {
     "data": {
      "text/html": [
       "<div><style>\n",
       ".dataframe > thead > tr,\n",
       ".dataframe > tbody > tr {\n",
       "  text-align: right;\n",
       "  white-space: pre-wrap;\n",
       "}\n",
       "</style>\n",
       "<small>shape: (5, 5)</small><table border=\"1\" class=\"dataframe\"><thead><tr><th>yearID</th><th>lgID</th><th>total_runs</th><th>total_ipouts</th><th>League_ERA</th></tr><tr><td>i64</td><td>str</td><td>i64</td><td>i64</td><td>f64</td></tr></thead><tbody><tr><td>1955</td><td>&quot;AL&quot;</td><td>5491</td><td>33080</td><td>4.481771</td></tr><tr><td>1998</td><td>&quot;AL&quot;</td><td>11354</td><td>60584</td><td>5.060049</td></tr><tr><td>2009</td><td>&quot;AL&quot;</td><td>10793</td><td>60520</td><td>4.815119</td></tr><tr><td>1991</td><td>&quot;NL&quot;</td><td>7955</td><td>52163</td><td>4.117574</td></tr><tr><td>2018</td><td>&quot;AL&quot;</td><td>11075</td><td>64982</td><td>4.601659</td></tr></tbody></table></div>"
      ],
      "text/plain": [
       "shape: (5, 5)\n",
       "┌────────┬──────┬────────────┬──────────────┬────────────┐\n",
       "│ yearID ┆ lgID ┆ total_runs ┆ total_ipouts ┆ League_ERA │\n",
       "│ ---    ┆ ---  ┆ ---        ┆ ---          ┆ ---        │\n",
       "│ i64    ┆ str  ┆ i64        ┆ i64          ┆ f64        │\n",
       "╞════════╪══════╪════════════╪══════════════╪════════════╡\n",
       "│ 1955   ┆ AL   ┆ 5491       ┆ 33080        ┆ 4.481771   │\n",
       "│ 1998   ┆ AL   ┆ 11354      ┆ 60584        ┆ 5.060049   │\n",
       "│ 2009   ┆ AL   ┆ 10793      ┆ 60520        ┆ 4.815119   │\n",
       "│ 1991   ┆ NL   ┆ 7955       ┆ 52163        ┆ 4.117574   │\n",
       "│ 2018   ┆ AL   ┆ 11075      ┆ 64982        ┆ 4.601659   │\n",
       "└────────┴──────┴────────────┴──────────────┴────────────┘"
      ]
     },
     "execution_count": 116,
     "metadata": {},
     "output_type": "execute_result"
    }
   ],
   "source": [
    "League_Wide_ERA.head()"
   ]
  },
  {
   "cell_type": "code",
   "execution_count": 113,
   "id": "8b8d5ecf-2b3f-45b6-a615-8eeca776a42b",
   "metadata": {},
   "outputs": [],
   "source": [
    "League_Wide_ERA.write_csv('League_Wide_ERA.csv')"
   ]
  },
  {
   "cell_type": "code",
   "execution_count": 81,
   "id": "1f0774c6-1ece-4e1a-b9b5-e6929386eee3",
   "metadata": {},
   "outputs": [
    {
     "data": {
      "text/html": [
       "<div><style>\n",
       ".dataframe > thead > tr,\n",
       ".dataframe > tbody > tr {\n",
       "  text-align: right;\n",
       "  white-space: pre-wrap;\n",
       "}\n",
       "</style>\n",
       "<small>shape: (51_368, 5)</small><table border=\"1\" class=\"dataframe\"><thead><tr><th>IPouts</th><th>yearID</th><th>R</th><th>lgID</th><th>DH</th></tr><tr><td>i64</td><td>i64</td><td>i64</td><td>str</td><td>str</td></tr></thead><tbody><tr><td>32</td><td>2004</td><td>8</td><td>&quot;NL&quot;</td><td>&quot;Only AL&quot;</td></tr><tr><td>159</td><td>2006</td><td>25</td><td>&quot;NL&quot;</td><td>&quot;Only AL&quot;</td></tr><tr><td>97</td><td>2007</td><td>24</td><td>&quot;AL&quot;</td><td>&quot;Only AL&quot;</td></tr><tr><td>146</td><td>2008</td><td>32</td><td>&quot;AL&quot;</td><td>&quot;Only AL&quot;</td></tr><tr><td>214</td><td>2009</td><td>23</td><td>&quot;AL&quot;</td><td>&quot;Only AL&quot;</td></tr><tr><td>&hellip;</td><td>&hellip;</td><td>&hellip;</td><td>&hellip;</td><td>&hellip;</td></tr><tr><td>207</td><td>1958</td><td>29</td><td>&quot;AL&quot;</td><td>&quot;Neither&quot;</td></tr><tr><td>39</td><td>1959</td><td>7</td><td>&quot;AL&quot;</td><td>&quot;Neither&quot;</td></tr><tr><td>55</td><td>2015</td><td>6</td><td>&quot;AL&quot;</td><td>&quot;Only AL&quot;</td></tr><tr><td>41</td><td>2016</td><td>6</td><td>&quot;AL&quot;</td><td>&quot;Only AL&quot;</td></tr><tr><td>122</td><td>2017</td><td>12</td><td>&quot;AL&quot;</td><td>&quot;Only AL&quot;</td></tr></tbody></table></div>"
      ],
      "text/plain": [
       "shape: (51_368, 5)\n",
       "┌────────┬────────┬─────┬──────┬─────────┐\n",
       "│ IPouts ┆ yearID ┆ R   ┆ lgID ┆ DH      │\n",
       "│ ---    ┆ ---    ┆ --- ┆ ---  ┆ ---     │\n",
       "│ i64    ┆ i64    ┆ i64 ┆ str  ┆ str     │\n",
       "╞════════╪════════╪═════╪══════╪═════════╡\n",
       "│ 32     ┆ 2004   ┆ 8   ┆ NL   ┆ Only AL │\n",
       "│ 159    ┆ 2006   ┆ 25  ┆ NL   ┆ Only AL │\n",
       "│ 97     ┆ 2007   ┆ 24  ┆ AL   ┆ Only AL │\n",
       "│ 146    ┆ 2008   ┆ 32  ┆ AL   ┆ Only AL │\n",
       "│ 214    ┆ 2009   ┆ 23  ┆ AL   ┆ Only AL │\n",
       "│ …      ┆ …      ┆ …   ┆ …    ┆ …       │\n",
       "│ 207    ┆ 1958   ┆ 29  ┆ AL   ┆ Neither │\n",
       "│ 39     ┆ 1959   ┆ 7   ┆ AL   ┆ Neither │\n",
       "│ 55     ┆ 2015   ┆ 6   ┆ AL   ┆ Only AL │\n",
       "│ 41     ┆ 2016   ┆ 6   ┆ AL   ┆ Only AL │\n",
       "│ 122    ┆ 2017   ┆ 12  ┆ AL   ┆ Only AL │\n",
       "└────────┴────────┴─────┴──────┴─────────┘"
      ]
     },
     "execution_count": 81,
     "metadata": {},
     "output_type": "execute_result"
    }
   ],
   "source": [
    "DH = (Pitching\n",
    "      .select([pl.col('IPouts'), pl.col('yearID'), pl.col('R'), pl.col('lgID')])\n",
    "      .with_columns(\n",
    "          (\n",
    "              pl.when(pl.col('yearID') < 1972)\n",
    "              .then(pl.lit('Neither'))\n",
    "              .when(pl.col('yearID') < 2019)\n",
    "              .then(pl.lit('Only AL'))\n",
    "              .when(pl.col('yearID') == 2020)\n",
    "              .then(pl.lit('Both'))\n",
    "              .when(pl.col('yearID') == 2021)\n",
    "              .then(pl.lit('Only AL'))\n",
    "              .when(pl.col('yearID') >= 2022)\n",
    "              .then(pl.lit('Both'))\n",
    "              .otherwise(pl.lit(None))\n",
    "              .alias('DH')\n",
    "          )\n",
    "      )\n",
    ")\n",
    "\n",
    "DH"
   ]
  },
  {
   "cell_type": "code",
   "execution_count": 117,
   "id": "ad4eb969-ee41-4f0d-a8f8-79a6fbe1e2a2",
   "metadata": {},
   "outputs": [
    {
     "data": {
      "text/html": [
       "<div><style>\n",
       ".dataframe > thead > tr,\n",
       ".dataframe > tbody > tr {\n",
       "  text-align: right;\n",
       "  white-space: pre-wrap;\n",
       "}\n",
       "</style>\n",
       "<small>shape: (5, 5)</small><table border=\"1\" class=\"dataframe\"><thead><tr><th>IPouts</th><th>yearID</th><th>R</th><th>lgID</th><th>DH</th></tr><tr><td>i64</td><td>i64</td><td>i64</td><td>str</td><td>str</td></tr></thead><tbody><tr><td>32</td><td>2004</td><td>8</td><td>&quot;NL&quot;</td><td>&quot;Only AL&quot;</td></tr><tr><td>159</td><td>2006</td><td>25</td><td>&quot;NL&quot;</td><td>&quot;Only AL&quot;</td></tr><tr><td>97</td><td>2007</td><td>24</td><td>&quot;AL&quot;</td><td>&quot;Only AL&quot;</td></tr><tr><td>146</td><td>2008</td><td>32</td><td>&quot;AL&quot;</td><td>&quot;Only AL&quot;</td></tr><tr><td>214</td><td>2009</td><td>23</td><td>&quot;AL&quot;</td><td>&quot;Only AL&quot;</td></tr></tbody></table></div>"
      ],
      "text/plain": [
       "shape: (5, 5)\n",
       "┌────────┬────────┬─────┬──────┬─────────┐\n",
       "│ IPouts ┆ yearID ┆ R   ┆ lgID ┆ DH      │\n",
       "│ ---    ┆ ---    ┆ --- ┆ ---  ┆ ---     │\n",
       "│ i64    ┆ i64    ┆ i64 ┆ str  ┆ str     │\n",
       "╞════════╪════════╪═════╪══════╪═════════╡\n",
       "│ 32     ┆ 2004   ┆ 8   ┆ NL   ┆ Only AL │\n",
       "│ 159    ┆ 2006   ┆ 25  ┆ NL   ┆ Only AL │\n",
       "│ 97     ┆ 2007   ┆ 24  ┆ AL   ┆ Only AL │\n",
       "│ 146    ┆ 2008   ┆ 32  ┆ AL   ┆ Only AL │\n",
       "│ 214    ┆ 2009   ┆ 23  ┆ AL   ┆ Only AL │\n",
       "└────────┴────────┴─────┴──────┴─────────┘"
      ]
     },
     "execution_count": 117,
     "metadata": {},
     "output_type": "execute_result"
    }
   ],
   "source": [
    "DH.head()"
   ]
  },
  {
   "cell_type": "code",
   "execution_count": 114,
   "id": "5ed50333-1667-45dd-83ad-1371613b6a22",
   "metadata": {},
   "outputs": [],
   "source": [
    "DH.write_csv('DH.csv')"
   ]
  },
  {
   "cell_type": "code",
   "execution_count": 82,
   "id": "07d539ef-c72f-4be0-b2cb-a11b2e92e30b",
   "metadata": {},
   "outputs": [],
   "source": [
    "Batting = pl.read_csv('./Data/lahman_1871-2023_csv/Batting.csv')"
   ]
  },
  {
   "cell_type": "code",
   "execution_count": 86,
   "id": "e05257ea-3cb4-42a5-ada3-ab7a4a274948",
   "metadata": {},
   "outputs": [
    {
     "data": {
      "text/html": [
       "<div><style>\n",
       ".dataframe > thead > tr,\n",
       ".dataframe > tbody > tr {\n",
       "  text-align: right;\n",
       "  white-space: pre-wrap;\n",
       "}\n",
       "</style>\n",
       "<small>shape: (5, 24)</small><table border=\"1\" class=\"dataframe\"><thead><tr><th>playerID</th><th>yearID</th><th>stint</th><th>teamID</th><th>lgID</th><th>G</th><th>G_batting</th><th>AB</th><th>R</th><th>H</th><th>2B</th><th>3B</th><th>HR</th><th>RBI</th><th>SB</th><th>CS</th><th>BB</th><th>SO</th><th>IBB</th><th>HBP</th><th>SH</th><th>SF</th><th>GIDP</th><th>G_old</th></tr><tr><td>str</td><td>i64</td><td>i64</td><td>str</td><td>str</td><td>i64</td><td>i64</td><td>i64</td><td>i64</td><td>i64</td><td>i64</td><td>i64</td><td>i64</td><td>i64</td><td>i64</td><td>i64</td><td>i64</td><td>i64</td><td>i64</td><td>i64</td><td>i64</td><td>i64</td><td>i64</td><td>str</td></tr></thead><tbody><tr><td>&quot;aardsda01&quot;</td><td>2004</td><td>1</td><td>&quot;SFN&quot;</td><td>&quot;NL&quot;</td><td>11</td><td>null</td><td>0</td><td>0</td><td>0</td><td>0</td><td>0</td><td>0</td><td>0</td><td>0</td><td>0</td><td>0</td><td>0</td><td>0</td><td>0</td><td>0</td><td>0</td><td>0</td><td>null</td></tr><tr><td>&quot;aardsda01&quot;</td><td>2006</td><td>1</td><td>&quot;CHN&quot;</td><td>&quot;NL&quot;</td><td>45</td><td>null</td><td>2</td><td>0</td><td>0</td><td>0</td><td>0</td><td>0</td><td>0</td><td>0</td><td>0</td><td>0</td><td>0</td><td>0</td><td>0</td><td>1</td><td>0</td><td>0</td><td>null</td></tr><tr><td>&quot;aardsda01&quot;</td><td>2007</td><td>1</td><td>&quot;CHA&quot;</td><td>&quot;AL&quot;</td><td>25</td><td>null</td><td>0</td><td>0</td><td>0</td><td>0</td><td>0</td><td>0</td><td>0</td><td>0</td><td>0</td><td>0</td><td>0</td><td>0</td><td>0</td><td>0</td><td>0</td><td>0</td><td>null</td></tr><tr><td>&quot;aardsda01&quot;</td><td>2008</td><td>1</td><td>&quot;BOS&quot;</td><td>&quot;AL&quot;</td><td>47</td><td>null</td><td>1</td><td>0</td><td>0</td><td>0</td><td>0</td><td>0</td><td>0</td><td>0</td><td>0</td><td>0</td><td>1</td><td>0</td><td>0</td><td>0</td><td>0</td><td>0</td><td>null</td></tr><tr><td>&quot;aardsda01&quot;</td><td>2009</td><td>1</td><td>&quot;SEA&quot;</td><td>&quot;AL&quot;</td><td>73</td><td>null</td><td>0</td><td>0</td><td>0</td><td>0</td><td>0</td><td>0</td><td>0</td><td>0</td><td>0</td><td>0</td><td>0</td><td>0</td><td>0</td><td>0</td><td>0</td><td>0</td><td>null</td></tr></tbody></table></div>"
      ],
      "text/plain": [
       "shape: (5, 24)\n",
       "┌───────────┬────────┬───────┬────────┬───┬─────┬─────┬──────┬───────┐\n",
       "│ playerID  ┆ yearID ┆ stint ┆ teamID ┆ … ┆ SH  ┆ SF  ┆ GIDP ┆ G_old │\n",
       "│ ---       ┆ ---    ┆ ---   ┆ ---    ┆   ┆ --- ┆ --- ┆ ---  ┆ ---   │\n",
       "│ str       ┆ i64    ┆ i64   ┆ str    ┆   ┆ i64 ┆ i64 ┆ i64  ┆ str   │\n",
       "╞═══════════╪════════╪═══════╪════════╪═══╪═════╪═════╪══════╪═══════╡\n",
       "│ aardsda01 ┆ 2004   ┆ 1     ┆ SFN    ┆ … ┆ 0   ┆ 0   ┆ 0    ┆ null  │\n",
       "│ aardsda01 ┆ 2006   ┆ 1     ┆ CHN    ┆ … ┆ 1   ┆ 0   ┆ 0    ┆ null  │\n",
       "│ aardsda01 ┆ 2007   ┆ 1     ┆ CHA    ┆ … ┆ 0   ┆ 0   ┆ 0    ┆ null  │\n",
       "│ aardsda01 ┆ 2008   ┆ 1     ┆ BOS    ┆ … ┆ 0   ┆ 0   ┆ 0    ┆ null  │\n",
       "│ aardsda01 ┆ 2009   ┆ 1     ┆ SEA    ┆ … ┆ 0   ┆ 0   ┆ 0    ┆ null  │\n",
       "└───────────┴────────┴───────┴────────┴───┴─────┴─────┴──────┴───────┘"
      ]
     },
     "execution_count": 86,
     "metadata": {},
     "output_type": "execute_result"
    }
   ],
   "source": [
    "Batting.head()"
   ]
  },
  {
   "cell_type": "code",
   "execution_count": 111,
   "id": "5c44943e-3bc9-481e-a858-49f9431d41fb",
   "metadata": {},
   "outputs": [
    {
     "data": {
      "text/html": [
       "<div><style>\n",
       ".dataframe > thead > tr,\n",
       ".dataframe > tbody > tr {\n",
       "  text-align: right;\n",
       "  white-space: pre-wrap;\n",
       "}\n",
       "</style>\n",
       "<small>shape: (78, 8)</small><table border=\"1\" class=\"dataframe\"><thead><tr><th>yearID</th><th>total_doubles</th><th>total_triples</th><th>total_homeruns</th><th>total_Hits</th><th>total_AB</th><th>total_singles</th><th>Slugging</th></tr><tr><td>i64</td><td>i64</td><td>i64</td><td>i64</td><td>i64</td><td>i64</td><td>i64</td><td>f64</td></tr></thead><tbody><tr><td>1977</td><td>6441</td><td>1170</td><td>3644</td><td>38037</td><td>143975</td><td>26782</td><td>0.401111</td></tr><tr><td>1989</td><td>6307</td><td>868</td><td>3083</td><td>36293</td><td>142821</td><td>26035</td><td>0.37519</td></tr><tr><td>1998</td><td>8741</td><td>899</td><td>5064</td><td>44489</td><td>167116</td><td>29785</td><td>0.420187</td></tr><tr><td>2004</td><td>8919</td><td>898</td><td>5451</td><td>44522</td><td>167353</td><td>29254</td><td>0.427778</td></tr><tr><td>1971</td><td>4931</td><td>808</td><td>2863</td><td>32547</td><td>130544</td><td>23945</td><td>0.365264</td></tr><tr><td>&hellip;</td><td>&hellip;</td><td>&hellip;</td><td>&hellip;</td><td>&hellip;</td><td>&hellip;</td><td>&hellip;</td><td>&hellip;</td></tr><tr><td>1965</td><td>4199</td><td>787</td><td>2688</td><td>26952</td><td>109739</td><td>19278</td><td>0.371691</td></tr><tr><td>1947</td><td>3568</td><td>804</td><td>1565</td><td>22003</td><td>84436</td><td>16066</td><td>0.377493</td></tr><tr><td>1959</td><td>3478</td><td>591</td><td>2250</td><td>21636</td><td>84294</td><td>15317</td><td>0.392033</td></tr><tr><td>1956</td><td>3339</td><td>725</td><td>2294</td><td>21653</td><td>83856</td><td>15295</td><td>0.397396</td></tr><tr><td>1962</td><td>4313</td><td>853</td><td>3001</td><td>28521</td><td>110688</td><td>20354</td><td>0.393385</td></tr></tbody></table></div>"
      ],
      "text/plain": [
       "shape: (78, 8)\n",
       "┌────────┬─────────────┬─────────────┬─────────────┬────────────┬──────────┬────────────┬──────────┐\n",
       "│ yearID ┆ total_doubl ┆ total_tripl ┆ total_homer ┆ total_Hits ┆ total_AB ┆ total_sing ┆ Slugging │\n",
       "│ ---    ┆ es          ┆ es          ┆ uns         ┆ ---        ┆ ---      ┆ les        ┆ ---      │\n",
       "│ i64    ┆ ---         ┆ ---         ┆ ---         ┆ i64        ┆ i64      ┆ ---        ┆ f64      │\n",
       "│        ┆ i64         ┆ i64         ┆ i64         ┆            ┆          ┆ i64        ┆          │\n",
       "╞════════╪═════════════╪═════════════╪═════════════╪════════════╪══════════╪════════════╪══════════╡\n",
       "│ 1977   ┆ 6441        ┆ 1170        ┆ 3644        ┆ 38037      ┆ 143975   ┆ 26782      ┆ 0.401111 │\n",
       "│ 1989   ┆ 6307        ┆ 868         ┆ 3083        ┆ 36293      ┆ 142821   ┆ 26035      ┆ 0.37519  │\n",
       "│ 1998   ┆ 8741        ┆ 899         ┆ 5064        ┆ 44489      ┆ 167116   ┆ 29785      ┆ 0.420187 │\n",
       "│ 2004   ┆ 8919        ┆ 898         ┆ 5451        ┆ 44522      ┆ 167353   ┆ 29254      ┆ 0.427778 │\n",
       "│ 1971   ┆ 4931        ┆ 808         ┆ 2863        ┆ 32547      ┆ 130544   ┆ 23945      ┆ 0.365264 │\n",
       "│ …      ┆ …           ┆ …           ┆ …           ┆ …          ┆ …        ┆ …          ┆ …        │\n",
       "│ 1965   ┆ 4199        ┆ 787         ┆ 2688        ┆ 26952      ┆ 109739   ┆ 19278      ┆ 0.371691 │\n",
       "│ 1947   ┆ 3568        ┆ 804         ┆ 1565        ┆ 22003      ┆ 84436    ┆ 16066      ┆ 0.377493 │\n",
       "│ 1959   ┆ 3478        ┆ 591         ┆ 2250        ┆ 21636      ┆ 84294    ┆ 15317      ┆ 0.392033 │\n",
       "│ 1956   ┆ 3339        ┆ 725         ┆ 2294        ┆ 21653      ┆ 83856    ┆ 15295      ┆ 0.397396 │\n",
       "│ 1962   ┆ 4313        ┆ 853         ┆ 3001        ┆ 28521      ┆ 110688   ┆ 20354      ┆ 0.393385 │\n",
       "└────────┴─────────────┴─────────────┴─────────────┴────────────┴──────────┴────────────┴──────────┘"
      ]
     },
     "execution_count": 111,
     "metadata": {},
     "output_type": "execute_result"
    }
   ],
   "source": [
    "Slugging_Pct = (Batting\n",
    "                     .select([pl.col('H'), pl.col('2B'), pl.col('3B'), pl.col('HR'), pl.col('AB'), pl.col('yearID')])\n",
    "                     .filter((pl.col('yearID') >= 1946))\n",
    "                     .group_by(pl.col('yearID'))\n",
    "                     .agg([pl.col('2B').sum().alias('total_doubles'),\n",
    "                           pl.col('3B').sum().alias('total_triples'),\n",
    "                                 pl.col('HR').sum().alias('total_homeruns'),\n",
    "                                       pl.col('H').sum().alias('total_Hits'),\n",
    "                           pl.col('AB').sum().alias('total_AB')\n",
    "                          ])\n",
    "                .with_columns(total_singles = pl.col('total_Hits') - pl.col('total_doubles') - pl.col('total_triples')\n",
    "                                                  - pl.col('total_homeruns'))\n",
    "                     .with_columns(Slugging = (pl.col('total_singles')+(pl.col('total_doubles')*2)+(pl.col('total_triples')*3)+\n",
    "                                   (pl.col('total_homeruns')*4))/(pl.col('total_AB'))\n",
    "                    ))\n",
    "Slugging_Pct"
   ]
  },
  {
   "cell_type": "code",
   "execution_count": 115,
   "id": "f85d51bf-2fb9-48cd-b733-fe0f69f6d301",
   "metadata": {},
   "outputs": [],
   "source": [
    "Slugging_Pct.write_csv('Slugging_Pct.csv')"
   ]
  },
  {
   "cell_type": "code",
   "execution_count": 118,
   "id": "20e8f346-1287-435c-9ead-38cc5ae5e8f6",
   "metadata": {},
   "outputs": [
    {
     "data": {
      "text/html": [
       "<div><style>\n",
       ".dataframe > thead > tr,\n",
       ".dataframe > tbody > tr {\n",
       "  text-align: right;\n",
       "  white-space: pre-wrap;\n",
       "}\n",
       "</style>\n",
       "<small>shape: (5, 8)</small><table border=\"1\" class=\"dataframe\"><thead><tr><th>yearID</th><th>total_doubles</th><th>total_triples</th><th>total_homeruns</th><th>total_Hits</th><th>total_AB</th><th>total_singles</th><th>Slugging</th></tr><tr><td>i64</td><td>i64</td><td>i64</td><td>i64</td><td>i64</td><td>i64</td><td>i64</td><td>f64</td></tr></thead><tbody><tr><td>1977</td><td>6441</td><td>1170</td><td>3644</td><td>38037</td><td>143975</td><td>26782</td><td>0.401111</td></tr><tr><td>1989</td><td>6307</td><td>868</td><td>3083</td><td>36293</td><td>142821</td><td>26035</td><td>0.37519</td></tr><tr><td>1998</td><td>8741</td><td>899</td><td>5064</td><td>44489</td><td>167116</td><td>29785</td><td>0.420187</td></tr><tr><td>2004</td><td>8919</td><td>898</td><td>5451</td><td>44522</td><td>167353</td><td>29254</td><td>0.427778</td></tr><tr><td>1971</td><td>4931</td><td>808</td><td>2863</td><td>32547</td><td>130544</td><td>23945</td><td>0.365264</td></tr></tbody></table></div>"
      ],
      "text/plain": [
       "shape: (5, 8)\n",
       "┌────────┬─────────────┬─────────────┬─────────────┬────────────┬──────────┬────────────┬──────────┐\n",
       "│ yearID ┆ total_doubl ┆ total_tripl ┆ total_homer ┆ total_Hits ┆ total_AB ┆ total_sing ┆ Slugging │\n",
       "│ ---    ┆ es          ┆ es          ┆ uns         ┆ ---        ┆ ---      ┆ les        ┆ ---      │\n",
       "│ i64    ┆ ---         ┆ ---         ┆ ---         ┆ i64        ┆ i64      ┆ ---        ┆ f64      │\n",
       "│        ┆ i64         ┆ i64         ┆ i64         ┆            ┆          ┆ i64        ┆          │\n",
       "╞════════╪═════════════╪═════════════╪═════════════╪════════════╪══════════╪════════════╪══════════╡\n",
       "│ 1977   ┆ 6441        ┆ 1170        ┆ 3644        ┆ 38037      ┆ 143975   ┆ 26782      ┆ 0.401111 │\n",
       "│ 1989   ┆ 6307        ┆ 868         ┆ 3083        ┆ 36293      ┆ 142821   ┆ 26035      ┆ 0.37519  │\n",
       "│ 1998   ┆ 8741        ┆ 899         ┆ 5064        ┆ 44489      ┆ 167116   ┆ 29785      ┆ 0.420187 │\n",
       "│ 2004   ┆ 8919        ┆ 898         ┆ 5451        ┆ 44522      ┆ 167353   ┆ 29254      ┆ 0.427778 │\n",
       "│ 1971   ┆ 4931        ┆ 808         ┆ 2863        ┆ 32547      ┆ 130544   ┆ 23945      ┆ 0.365264 │\n",
       "└────────┴─────────────┴─────────────┴─────────────┴────────────┴──────────┴────────────┴──────────┘"
      ]
     },
     "execution_count": 118,
     "metadata": {},
     "output_type": "execute_result"
    }
   ],
   "source": [
    "Slugging_Pct.head()"
   ]
  },
  {
   "cell_type": "code",
   "execution_count": null,
   "id": "f366a1a7-2a53-4eeb-9f27-6774355ec997",
   "metadata": {},
   "outputs": [],
   "source": []
  }
 ],
 "metadata": {
  "kernelspec": {
   "display_name": "Python 3 (ipykernel)",
   "language": "python",
   "name": "python3"
  },
  "language_info": {
   "codemirror_mode": {
    "name": "ipython",
    "version": 3
   },
   "file_extension": ".py",
   "mimetype": "text/x-python",
   "name": "python",
   "nbconvert_exporter": "python",
   "pygments_lexer": "ipython3",
   "version": "3.12.5"
  }
 },
 "nbformat": 4,
 "nbformat_minor": 5
}
